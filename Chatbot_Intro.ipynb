{
  "nbformat": 4,
  "nbformat_minor": 0,
  "metadata": {
    "colab": {
      "name": "Chatbot Intro.ipynb",
      "provenance": [],
      "authorship_tag": "ABX9TyN1V70XkaXrQiL2j8Cad22o",
      "include_colab_link": true
    },
    "kernelspec": {
      "name": "python3",
      "display_name": "Python 3"
    },
    "language_info": {
      "name": "python"
    }
  },
  "cells": [
    {
      "cell_type": "markdown",
      "metadata": {
        "id": "view-in-github",
        "colab_type": "text"
      },
      "source": [
        "<a href=\"https://colab.research.google.com/github/beatricexc/Chatbot-Python/blob/main/Chatbot_Intro.ipynb\" target=\"_parent\"><img src=\"https://colab.research.google.com/assets/colab-badge.svg\" alt=\"Open In Colab\"/></a>"
      ]
    },
    {
      "cell_type": "code",
      "execution_count": 26,
      "metadata": {
        "colab": {
          "base_uri": "https://localhost:8080/"
        },
        "id": "ZxfvaNUNx-ae",
        "outputId": "764a55ea-e7b5-42ac-9ab8-34503a5acd9e"
      },
      "outputs": [
        {
          "output_type": "stream",
          "name": "stdout",
          "text": [
            "Hello! Welcome to my chatbot!\n",
            "What is your name? \n",
            "Cece\n",
            "Hello,Cece. Are you excited to interact with this program?\n",
            "yes\n",
            "What a coincidence, I'm excited too! Let's get cracking!\n"
          ]
        }
      ],
      "source": [
        "print(\"Hello! Welcome to my chatbot!\")\n",
        "name = input(\"What is your name? \\n\") \n",
        "answer = input( \"Hello,\" + name +\".\" \" Are you excited to interact with this program?\\n\")\n",
        "if (answer == \"yes\"):\n",
        "  print(\"What a coincidence, I'm excited too! Let's get cracking!\")\n",
        "elif (answer == \"no\"):\n",
        "  print(\"That's fine. I hope I can change your mind!\")\n",
        "else: \n",
        "  print(\"Hmm...I seem to not comprehend your answer. Can you try again?\")"
      ]
    }
  ]
}